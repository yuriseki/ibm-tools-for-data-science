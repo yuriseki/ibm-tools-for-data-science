{
 "cells": [
  {
   "cell_type": "markdown",
   "id": "789d5a7d-3cd3-42f8-8fba-68fb6463ca7a",
   "metadata": {},
   "source": [
    "# Data Science Tools and Ecosystem"
   ]
  },
  {
   "cell_type": "markdown",
   "id": "991789bf-0b5d-4007-a920-18d7357d5162",
   "metadata": {},
   "source": [
    "## Author\n",
    "Yuri Seki"
   ]
  },
  {
   "cell_type": "markdown",
   "id": "7cb987be-d767-4561-8eb5-7beb31ea25d6",
   "metadata": {},
   "source": [
    "In this notebook, Data Science Tools and Ecosystem are summarized."
   ]
  },
  {
   "cell_type": "markdown",
   "id": "cf486c33-f59c-47b7-ac8b-89b54807fac1",
   "metadata": {},
   "source": [
    "**Objectives:**\n",
    "- List popular languages for Data Science\n",
    "- List of popular Data Science Tools\n",
    "- Example os evaluating arithmetic expressions in Python\n"
   ]
  },
  {
   "cell_type": "markdown",
   "id": "f1321a08-fdc2-479a-82bf-8d6d647e5751",
   "metadata": {},
   "source": [
    "Some of the popular languages that Data Scientists use are:\n",
    "1. Python\n",
    "2. R\n",
    "3. Julia\n",
    "4. Java\n",
    "5. Scala"
   ]
  },
  {
   "cell_type": "markdown",
   "id": "78c40733-5ccb-4777-a776-395397c78ae3",
   "metadata": {},
   "source": [
    "|Data Science Tools|\n",
    "--------------------\n",
    "|Jupyter Notebook|\n",
    "|R Studio|\n",
    "|Pytorch|"
   ]
  },
  {
   "cell_type": "markdown",
   "id": "c1f11119-4655-4c1b-b756-c7ef76c5009b",
   "metadata": {},
   "source": [
    "Below are a few examples of evaluating arithmetic expressions in Python\n",
    "\n",
    "```python\n",
    "# Addition, subtraction, multiplication, division\n",
    "a = 10\n",
    "b = 5\n",
    "\n",
    "sum_result = a + b          # 10 + 5 = 15\n",
    "diff_result = a - b         # 10 - 5 = 5\n",
    "product_result = a * b      # 10 * 5 = 50\n",
    "division_result = a / b     # 10 / 5 = 2.0\n",
    "\n",
    "print(sum_result, diff_result, product_result, division_result)\n",
    "```\n",
    "\n",
    "As the result, we will get:\n",
    "```\n",
    "15 5 50 2.0\n",
    "```\n"
   ]
  },
  {
   "cell_type": "code",
   "execution_count": 8,
   "id": "3c77203c-4811-4514-947c-b70433a7fd90",
   "metadata": {},
   "outputs": [
    {
     "name": "stdout",
     "output_type": "stream",
     "text": [
      "17\n"
     ]
    }
   ],
   "source": [
    "# This a simple arithmetic expression to mutiply then add integers\n",
    "result = (3*4)+5\n",
    "print(result)"
   ]
  },
  {
   "cell_type": "code",
   "execution_count": 24,
   "id": "78006ae4-142a-4f41-8ae2-8407c0330d8b",
   "metadata": {},
   "outputs": [
    {
     "name": "stdout",
     "output_type": "stream",
     "text": [
      "200 monutes = 3.3 hours\n"
     ]
    }
   ],
   "source": [
    "minutes = 200\n",
    "# This will convert 200 minutes to hours by diving by 60\n",
    "hours = minutes / 60\n",
    "print(f\"{minutes} monutes = {hours:.1f} hours\")"
   ]
  }
 ],
 "metadata": {
  "kernelspec": {
   "display_name": "Python 3 (ipykernel)",
   "language": "python",
   "name": "python3"
  },
  "language_info": {
   "codemirror_mode": {
    "name": "ipython",
    "version": 3
   },
   "file_extension": ".py",
   "mimetype": "text/x-python",
   "name": "python",
   "nbconvert_exporter": "python",
   "pygments_lexer": "ipython3",
   "version": "3.10.14"
  }
 },
 "nbformat": 4,
 "nbformat_minor": 5
}
